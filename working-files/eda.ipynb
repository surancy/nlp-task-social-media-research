{
 "cells": [
  {
   "cell_type": "code",
   "execution_count": 20,
   "metadata": {},
   "outputs": [
    {
     "data": {
      "text/plain": [
       "'\\nAuthor: Rainy\\nDate: Oct 3 2019\\n'"
      ]
     },
     "execution_count": 20,
     "metadata": {},
     "output_type": "execute_result"
    }
   ],
   "source": [
    "\"\"\"\n",
    "Author: Rainy\n",
    "Date: Oct 3 2019\n",
    "\"\"\""
   ]
  },
  {
   "cell_type": "code",
   "execution_count": 21,
   "metadata": {},
   "outputs": [],
   "source": [
    "# set up\n",
    "import pandas as pd\n",
    "import numpy as np\n",
    "import seaborn as sns\n",
    "import matplotlib.pyplot as plt\n",
    "import warnings\n",
    "warnings.filterwarnings(\"ignore\")"
   ]
  },
  {
   "cell_type": "code",
   "execution_count": 36,
   "metadata": {},
   "outputs": [],
   "source": [
    "# load data\n",
    "files = []\n",
    "for i in range(2,12):\n",
    "    file_names = 'Stream ({}).xlsx'.format(i)\n",
    "    files.append(file_names)\n",
    "\n",
    "df_twitter = pd.DataFrame()\n",
    "for file in files:\n",
    "    df_twitter = pd.concat([df_twitter,pd.read_excel(file, sheetname = 'Stream')])"
   ]
  },
  {
   "cell_type": "code",
   "execution_count": 37,
   "metadata": {},
   "outputs": [],
   "source": [
    "# non-twitter data\n",
    "df_non_twitter = pd.concat([pd.read_excel('T Only 3_1_2017 thru 6_30_2017 Random Stream (1).xlsx', sheetname='Stream'),\n",
    "                           pd.read_excel('T Only 9_1_2017 thru 10_31_2017 Random Stream (1).xlsx', sheetname='Stream')])\n"
   ]
  },
  {
   "cell_type": "markdown",
   "metadata": {},
   "source": [
    "# Data inspection and data preprocessing"
   ]
  },
  {
   "cell_type": "code",
   "execution_count": 41,
   "metadata": {},
   "outputs": [
    {
     "data": {
      "text/plain": [
       "((443273, 41), (69548, 41))"
      ]
     },
     "execution_count": 41,
     "metadata": {},
     "output_type": "execute_result"
    }
   ],
   "source": [
    "df_twitter.shape, df_non_twitter.shape"
   ]
  },
  {
   "cell_type": "code",
   "execution_count": 43,
   "metadata": {},
   "outputs": [
    {
     "data": {
      "text/plain": [
       "(Index(['Post ID', 'Sound Bite Text', 'Ratings and Scores', 'Title',\n",
       "        'Source Type', 'Post Type', 'Media Type', 'URL', 'Domain',\n",
       "        'Published Date (GMT-04:00) New York', 'Author Gender', 'Author URL',\n",
       "        'Author Name', 'Author Handle', 'Author ID',\n",
       "        'Author Location - Country 1', 'Author Location - State/Province 1',\n",
       "        'Author Location - City 1', 'Author Location - Country 2',\n",
       "        'Author Location - State/Province 2', 'Author Location - City 2',\n",
       "        'Author Location - Other', 'No. of Followers/Daily Unique Visitors',\n",
       "        'Professions', 'Interests', 'Positive Objects', 'Negative Objects',\n",
       "        'Richness', 'Tags', 'Quoted Post', 'Quoted Author Name',\n",
       "        'Quoted Author Handle', 'Total Engagements', 'Post Comments',\n",
       "        'Post Likes', 'Post Shares', 'Post Views', 'Post Dislikes',\n",
       "        'Product Name', 'Product Hierarchy', 'Rating'],\n",
       "       dtype='object'),\n",
       " Index(['Post ID', 'Sound Bite Text', 'Ratings and Scores', 'Title',\n",
       "        'Source Type', 'Post Type', 'Media Type', 'URL', 'Domain',\n",
       "        'Published Date (GMT-04:00) New York', 'Author Gender', 'Author URL',\n",
       "        'Author Name', 'Author Handle', 'Author ID',\n",
       "        'Author Location - Country 1', 'Author Location - State/Province 1',\n",
       "        'Author Location - City 1', 'Author Location - Country 2',\n",
       "        'Author Location - State/Province 2', 'Author Location - City 2',\n",
       "        'Author Location - Other', 'No. of Followers/Daily Unique Visitors',\n",
       "        'Professions', 'Interests', 'Positive Objects', 'Negative Objects',\n",
       "        'Richness', 'Tags', 'Quoted Post', 'Quoted Author Name',\n",
       "        'Quoted Author Handle', 'Total Engagements', 'Post Comments',\n",
       "        'Post Likes', 'Post Shares', 'Post Views', 'Post Dislikes',\n",
       "        'Product Name', 'Product Hierarchy', 'Rating'],\n",
       "       dtype='object'))"
      ]
     },
     "execution_count": 43,
     "metadata": {},
     "output_type": "execute_result"
    }
   ],
   "source": [
    "df_twitter.columns, df_non_twitter.columns"
   ]
  },
  {
   "cell_type": "code",
   "execution_count": 45,
   "metadata": {},
   "outputs": [],
   "source": [
    "# join twitter and non-twitter dataset together\n",
    "df = pd.concat([df_twitter,df_non_twitter])"
   ]
  },
  {
   "cell_type": "code",
   "execution_count": 49,
   "metadata": {},
   "outputs": [],
   "source": [
    "# drop not actionable data\n",
    "df.drop(columns = [\"Post ID\", \"URL\"], inplace = True)"
   ]
  },
  {
   "cell_type": "code",
   "execution_count": 51,
   "metadata": {},
   "outputs": [],
   "source": [
    "df.drop(columns = ['Domain', 'Author URL','Author Handle','Author Location - State/Province 1', 'Author Location - State/Province 2', 'Author Location - City 2',\n",
    "        'Author Location - Other'], inplace = True)"
   ]
  },
  {
   "cell_type": "code",
   "execution_count": 52,
   "metadata": {},
   "outputs": [
    {
     "data": {
      "text/plain": [
       "(512821, 32)"
      ]
     },
     "execution_count": 52,
     "metadata": {},
     "output_type": "execute_result"
    }
   ],
   "source": [
    "df.shape"
   ]
  },
  {
   "cell_type": "code",
   "execution_count": 60,
   "metadata": {},
   "outputs": [
    {
     "data": {
      "text/html": [
       "<div>\n",
       "<style scoped>\n",
       "    .dataframe tbody tr th:only-of-type {\n",
       "        vertical-align: middle;\n",
       "    }\n",
       "\n",
       "    .dataframe tbody tr th {\n",
       "        vertical-align: top;\n",
       "    }\n",
       "\n",
       "    .dataframe thead th {\n",
       "        text-align: right;\n",
       "    }\n",
       "</style>\n",
       "<table border=\"1\" class=\"dataframe\">\n",
       "  <thead>\n",
       "    <tr style=\"text-align: right;\">\n",
       "      <th></th>\n",
       "      <th>Tags</th>\n",
       "      <th>Quoted Post</th>\n",
       "      <th>Quoted Author Name</th>\n",
       "      <th>Quoted Author Handle</th>\n",
       "      <th>Total Engagements</th>\n",
       "      <th>Post Comments</th>\n",
       "      <th>Post Likes</th>\n",
       "      <th>Post Shares</th>\n",
       "      <th>Post Views</th>\n",
       "      <th>Post Dislikes</th>\n",
       "      <th>Product Name</th>\n",
       "      <th>Product Hierarchy</th>\n",
       "      <th>Rating</th>\n",
       "    </tr>\n",
       "  </thead>\n",
       "  <tbody>\n",
       "    <tr>\n",
       "      <th>0</th>\n",
       "      <td>NaN</td>\n",
       "      <td>NaN</td>\n",
       "      <td>NaN</td>\n",
       "      <td>NaN</td>\n",
       "      <td>NaN</td>\n",
       "      <td>NaN</td>\n",
       "      <td>NaN</td>\n",
       "      <td>NaN</td>\n",
       "      <td>NaN</td>\n",
       "      <td>NaN</td>\n",
       "      <td>NaN</td>\n",
       "      <td>NaN</td>\n",
       "      <td>NaN</td>\n",
       "    </tr>\n",
       "    <tr>\n",
       "      <th>1</th>\n",
       "      <td>NaN</td>\n",
       "      <td>NaN</td>\n",
       "      <td>NaN</td>\n",
       "      <td>NaN</td>\n",
       "      <td>2.0</td>\n",
       "      <td>1.0</td>\n",
       "      <td>1.0</td>\n",
       "      <td>NaN</td>\n",
       "      <td>NaN</td>\n",
       "      <td>NaN</td>\n",
       "      <td>NaN</td>\n",
       "      <td>NaN</td>\n",
       "      <td>NaN</td>\n",
       "    </tr>\n",
       "    <tr>\n",
       "      <th>2</th>\n",
       "      <td>NaN</td>\n",
       "      <td>NaN</td>\n",
       "      <td>NaN</td>\n",
       "      <td>NaN</td>\n",
       "      <td>NaN</td>\n",
       "      <td>NaN</td>\n",
       "      <td>NaN</td>\n",
       "      <td>NaN</td>\n",
       "      <td>NaN</td>\n",
       "      <td>NaN</td>\n",
       "      <td>NaN</td>\n",
       "      <td>NaN</td>\n",
       "      <td>NaN</td>\n",
       "    </tr>\n",
       "    <tr>\n",
       "      <th>3</th>\n",
       "      <td>NaN</td>\n",
       "      <td>NaN</td>\n",
       "      <td>NaN</td>\n",
       "      <td>NaN</td>\n",
       "      <td>NaN</td>\n",
       "      <td>NaN</td>\n",
       "      <td>NaN</td>\n",
       "      <td>NaN</td>\n",
       "      <td>NaN</td>\n",
       "      <td>NaN</td>\n",
       "      <td>NaN</td>\n",
       "      <td>NaN</td>\n",
       "      <td>NaN</td>\n",
       "    </tr>\n",
       "    <tr>\n",
       "      <th>4</th>\n",
       "      <td>NaN</td>\n",
       "      <td>NaN</td>\n",
       "      <td>NaN</td>\n",
       "      <td>NaN</td>\n",
       "      <td>NaN</td>\n",
       "      <td>NaN</td>\n",
       "      <td>NaN</td>\n",
       "      <td>NaN</td>\n",
       "      <td>NaN</td>\n",
       "      <td>NaN</td>\n",
       "      <td>NaN</td>\n",
       "      <td>NaN</td>\n",
       "      <td>NaN</td>\n",
       "    </tr>\n",
       "  </tbody>\n",
       "</table>\n",
       "</div>"
      ],
      "text/plain": [
       "   Tags Quoted Post Quoted Author Name Quoted Author Handle  \\\n",
       "0   NaN         NaN                NaN                  NaN   \n",
       "1   NaN         NaN                NaN                  NaN   \n",
       "2   NaN         NaN                NaN                  NaN   \n",
       "3   NaN         NaN                NaN                  NaN   \n",
       "4   NaN         NaN                NaN                  NaN   \n",
       "\n",
       "   Total Engagements  Post Comments  Post Likes  Post Shares  Post Views  \\\n",
       "0                NaN            NaN         NaN          NaN         NaN   \n",
       "1                2.0            1.0         1.0          NaN         NaN   \n",
       "2                NaN            NaN         NaN          NaN         NaN   \n",
       "3                NaN            NaN         NaN          NaN         NaN   \n",
       "4                NaN            NaN         NaN          NaN         NaN   \n",
       "\n",
       "   Post Dislikes Product Name  Product Hierarchy  Rating  \n",
       "0            NaN          NaN                NaN     NaN  \n",
       "1            NaN          NaN                NaN     NaN  \n",
       "2            NaN          NaN                NaN     NaN  \n",
       "3            NaN          NaN                NaN     NaN  \n",
       "4            NaN          NaN                NaN     NaN  "
      ]
     },
     "execution_count": 60,
     "metadata": {},
     "output_type": "execute_result"
    }
   ],
   "source": [
    "# post features inspect\n",
    "df.iloc[:,19:].head()"
   ]
  },
  {
   "cell_type": "code",
   "execution_count": 63,
   "metadata": {},
   "outputs": [
    {
     "data": {
      "text/plain": [
       "512821"
      ]
     },
     "execution_count": 63,
     "metadata": {},
     "output_type": "execute_result"
    }
   ],
   "source": [
    "len(df)"
   ]
  },
  {
   "cell_type": "code",
   "execution_count": 62,
   "metadata": {},
   "outputs": [
    {
     "data": {
      "text/plain": [
       "Tags                    512821\n",
       "Quoted Post             512512\n",
       "Quoted Author Name      512512\n",
       "Quoted Author Handle    512512\n",
       "Total Engagements       460347\n",
       "Post Comments           482202\n",
       "Post Likes              462568\n",
       "Post Shares             511653\n",
       "Post Views              512821\n",
       "Post Dislikes           512821\n",
       "Product Name            501423\n",
       "Product Hierarchy       512821\n",
       "Rating                  510543\n",
       "dtype: int64"
      ]
     },
     "execution_count": 62,
     "metadata": {},
     "output_type": "execute_result"
    }
   ],
   "source": [
    "df.iloc[:,19:].isnull().sum()"
   ]
  },
  {
   "cell_type": "code",
   "execution_count": 90,
   "metadata": {},
   "outputs": [],
   "source": [
    "df.drop(columns = ['Author Location - City 1','Author Location - Country 2'],inplace = True)"
   ]
  },
  {
   "cell_type": "code",
   "execution_count": 64,
   "metadata": {},
   "outputs": [],
   "source": [
    "# drop columns with all information missing\n",
    "for col in df.columns:\n",
    "    if df[col].isnull().sum() == len(df):\n",
    "        df.drop(columns = [col], inplace = True)"
   ]
  },
  {
   "cell_type": "code",
   "execution_count": 91,
   "metadata": {},
   "outputs": [
    {
     "data": {
      "text/plain": [
       "Index(['Sound Bite Text', 'Title', 'Source Type', 'Post Type', 'Media Type',\n",
       "       'Published Date (GMT-04:00) New York', 'Author Gender', 'Author Name',\n",
       "       'Author ID', 'Country', 'No. of Followers/Daily Unique Visitors',\n",
       "       'Professions', 'Interests', 'Positive Objects', 'Negative Objects',\n",
       "       'Richness', 'Quoted Post', 'Quoted Author Name', 'Quoted Author Handle',\n",
       "       'Total Engagements', 'Post Comments', 'Post Likes', 'Post Shares',\n",
       "       'Product Name', 'Rating'],\n",
       "      dtype='object')"
      ]
     },
     "execution_count": 91,
     "metadata": {},
     "output_type": "execute_result"
    }
   ],
   "source": [
    "df.columns"
   ]
  },
  {
   "cell_type": "code",
   "execution_count": 92,
   "metadata": {},
   "outputs": [
    {
     "data": {
      "text/plain": [
       "(512821, 25)"
      ]
     },
     "execution_count": 92,
     "metadata": {},
     "output_type": "execute_result"
    }
   ],
   "source": [
    "df.shape"
   ]
  },
  {
   "cell_type": "code",
   "execution_count": 68,
   "metadata": {},
   "outputs": [
    {
     "data": {
      "text/plain": [
       "dtype('O')"
      ]
     },
     "execution_count": 68,
     "metadata": {},
     "output_type": "execute_result"
    }
   ],
   "source": [
    "# datetime conversion\n",
    "df[\"Published Date (GMT-04:00) New York\"].dtype"
   ]
  },
  {
   "cell_type": "code",
   "execution_count": 69,
   "metadata": {},
   "outputs": [],
   "source": [
    "df[\"Published Date (GMT-04:00) New York\"] = pd.to_datetime(df[\"Published Date (GMT-04:00) New York\"])"
   ]
  },
  {
   "cell_type": "markdown",
   "metadata": {},
   "source": [
    "# EDA \n",
    "## Users Demography and Market Research"
   ]
  },
  {
   "cell_type": "code",
   "execution_count": 108,
   "metadata": {},
   "outputs": [
    {
     "data": {
      "image/png": "[encoded data removed]",
      "text/plain": [
       "<Figure size 576x432 with 1 Axes>"
      ]
     },
     "metadata": {
      "needs_background": "light"
     },
     "output_type": "display_data"
    }
   ],
   "source": [
    "# where they come from\n",
    "df = df.rename(columns={\"Author Location - Country 1\" : \"Country\"})\n",
    "plt.figure(figsize = (8,6))\n",
    "sns.countplot(y = df[\"Country\"], order = df[\"Country\"].value_counts().index[:30])\n",
    "plt.title(\"Country distribution for posts\")\n",
    "plt.show()"
   ]
  },
  {
   "cell_type": "markdown",
   "metadata": {},
   "source": [
    "A large majority of the population are from US, followed by UK, Singapore, India, Germany, and Canada, and Australia. We can further interpret the result based on the continents of different markets."
   ]
  },
  {
   "cell_type": "code",
   "execution_count": 106,
   "metadata": {},
   "outputs": [
    {
     "data": {
      "image/png": "[encoded data removed]",
      "text/plain": [
       "<Figure size 576x432 with 1 Axes>"
      ]
     },
     "metadata": {
      "needs_background": "light"
     },
     "output_type": "display_data"
    }
   ],
   "source": [
    "plt.figure(figsize = (8,6))\n",
    "ax = sns.countplot(y= df[\"Professions\"],order=df['Professions'].value_counts().index[:30])\n",
    "plt.title(\"Users Career Distribution\")\n",
    "plt.show()"
   ]
  },
  {
   "cell_type": "markdown",
   "metadata": {},
   "source": [
    "Most of the reviewers are in the career of creative arts, blogging, sales/marketing, technology, students, and managements. This is interesting and we can further interpret the review analysis based on the major categories of the careers, and we can even group similar careers together."
   ]
  },
  {
   "cell_type": "code",
   "execution_count": 145,
   "metadata": {},
   "outputs": [
    {
     "data": {
      "image/png": "[encoded data removed]",
      "text/plain": [
       "<Figure size 432x288 with 1 Axes>"
      ]
     },
     "metadata": {
      "needs_background": "light"
     },
     "output_type": "display_data"
    }
   ],
   "source": [
    "sns.boxplot(x = df[\"Richness\"])\n",
    "plt.title(\"Richness for users\")\n",
    "plt.show()"
   ]
  },
  {
   "cell_type": "markdown",
   "metadata": {},
   "source": [
    "So apparently most users rate themselves from 0 to 4,with the max richness score around 12. Although the richness is not clear on the measurement standard, we can still assume that most users are not super duper rich, at least according to themselves, meaning that this market reserach demography has an income level that is not too obnoxious."
   ]
  },
  {
   "cell_type": "code",
   "execution_count": null,
   "metadata": {},
   "outputs": [],
   "source": []
  },
  {
   "cell_type": "code",
   "execution_count": 138,
   "metadata": {},
   "outputs": [
    {
     "data": {
      "image/png": "[encoded data removed]",
      "text/plain": [
       "<Figure size 432x288 with 1 Axes>"
      ]
     },
     "metadata": {
      "needs_background": "light"
     },
     "output_type": "display_data"
    }
   ],
   "source": [
    "sns.countplot(df[\"Author Gender\"])\n",
    "plt.show()"
   ]
  },
  {
   "cell_type": "markdown",
   "metadata": {},
   "source": [
    "Male reviewers are more than female, based on the information we have."
   ]
  },
  {
   "cell_type": "markdown",
   "metadata": {},
   "source": [
    "## Reivew Features Analysis"
   ]
  },
  {
   "cell_type": "code",
   "execution_count": 116,
   "metadata": {},
   "outputs": [
    {
     "data": {
      "text/html": [
       "<div>\n",
       "<style scoped>\n",
       "    .dataframe tbody tr th:only-of-type {\n",
       "        vertical-align: middle;\n",
       "    }\n",
       "\n",
       "    .dataframe tbody tr th {\n",
       "        vertical-align: top;\n",
       "    }\n",
       "\n",
       "    .dataframe thead th {\n",
       "        text-align: right;\n",
       "    }\n",
       "</style>\n",
       "<table border=\"1\" class=\"dataframe\">\n",
       "  <thead>\n",
       "    <tr style=\"text-align: right;\">\n",
       "      <th></th>\n",
       "      <th>Source Type</th>\n",
       "      <th>Post Type</th>\n",
       "      <th>Media Type</th>\n",
       "    </tr>\n",
       "  </thead>\n",
       "  <tbody>\n",
       "    <tr>\n",
       "      <th>count</th>\n",
       "      <td>493173</td>\n",
       "      <td>493173</td>\n",
       "      <td>493173</td>\n",
       "    </tr>\n",
       "    <tr>\n",
       "      <th>unique</th>\n",
       "      <td>9</td>\n",
       "      <td>3</td>\n",
       "      <td>15</td>\n",
       "    </tr>\n",
       "    <tr>\n",
       "      <th>top</th>\n",
       "      <td>Blogs</td>\n",
       "      <td>Original</td>\n",
       "      <td>No Media</td>\n",
       "    </tr>\n",
       "    <tr>\n",
       "      <th>freq</th>\n",
       "      <td>172673</td>\n",
       "      <td>410270</td>\n",
       "      <td>244291</td>\n",
       "    </tr>\n",
       "  </tbody>\n",
       "</table>\n",
       "</div>"
      ],
      "text/plain": [
       "       Source Type Post Type Media Type\n",
       "count       493173    493173     493173\n",
       "unique           9         3         15\n",
       "top          Blogs  Original   No Media\n",
       "freq        172673    410270     244291"
      ]
     },
     "execution_count": 116,
     "metadata": {},
     "output_type": "execute_result"
    }
   ],
   "source": [
    "df.loc[:,['Source Type', 'Post Type', 'Media Type']].describe()"
   ]
  },
  {
   "cell_type": "code",
   "execution_count": 124,
   "metadata": {},
   "outputs": [
    {
     "data": {
      "image/png": "[encoded data removed]",
      "text/plain": [
       "<Figure size 1296x360 with 1 Axes>"
      ]
     },
     "metadata": {
      "needs_background": "light"
     },
     "output_type": "display_data"
    }
   ],
   "source": [
    "plt.figure(figsize = (18,5))\n",
    "sns.countplot(df[\"Source Type\"], order = df[\"Source Type\"].value_counts().index)\n",
    "plt.show()"
   ]
  },
  {
   "cell_type": "code",
   "execution_count": 131,
   "metadata": {},
   "outputs": [
    {
     "data": {
      "image/png": "[encoded data removed]",
      "text/plain": [
       "<Figure size 504x288 with 1 Axes>"
      ]
     },
     "metadata": {
      "needs_background": "light"
     },
     "output_type": "display_data"
    }
   ],
   "source": [
    "plt.figure(figsize = (7,4))\n",
    "sns.countplot(df[\"Post Type\"], order = df[\"Post Type\"].value_counts().index)\n",
    "plt.show()"
   ]
  },
  {
   "cell_type": "code",
   "execution_count": 135,
   "metadata": {},
   "outputs": [
    {
     "data": {
      "image/png": "[encoded data removed]",
      "text/plain": [
       "<Figure size 1656x288 with 1 Axes>"
      ]
     },
     "metadata": {
      "needs_background": "light"
     },
     "output_type": "display_data"
    }
   ],
   "source": [
    "plt.figure(figsize = (23,4))\n",
    "sns.countplot(df[\"Media Type\"], order = df[\"Media Type\"].value_counts().index)\n",
    "plt.show()"
   ]
  },
  {
   "cell_type": "code",
   "execution_count": null,
   "metadata": {},
   "outputs": [],
   "source": []
  }
 ],
 "metadata": {
  "kernelspec": {
   "display_name": "Python 3",
   "language": "python",
   "name": "python3"
  },
  "language_info": {
   "codemirror_mode": {
    "name": "ipython",
    "version": 3
   },
   "file_extension": ".py",
   "mimetype": "text/x-python",
   "name": "python",
   "nbconvert_exporter": "python",
   "pygments_lexer": "ipython3",
   "version": "3.7.3"
  }
 },
 "nbformat": 4,
 "nbformat_minor": 2
}
